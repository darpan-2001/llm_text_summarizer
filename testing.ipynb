{
 "cells": [
  {
   "cell_type": "code",
   "execution_count": 2,
   "metadata": {},
   "outputs": [],
   "source": [
    "# print(\"working\")"
   ]
  },
  {
   "cell_type": "code",
   "execution_count": 3,
   "metadata": {},
   "outputs": [],
   "source": [
    "from langchain_groq import ChatGroq\n",
    "from langchain_core.prompts import PromptTemplate\n",
    "import os"
   ]
  },
  {
   "cell_type": "code",
   "execution_count": 4,
   "metadata": {},
   "outputs": [],
   "source": [
    "API_KEY = os.getenv(\"GROQ_API_KEY\")"
   ]
  },
  {
   "cell_type": "code",
   "execution_count": 35,
   "metadata": {},
   "outputs": [],
   "source": [
    "model = ChatGroq(\n",
    "    groq_api_key=API_KEY,\n",
    "    temperature=0,\n",
    "    # model_name=\"deepseek-r1-distill-llama-70b\"\n",
    "    model_name=\"gemma2-9b-it\"\n",
    ")"
   ]
  },
  {
   "cell_type": "code",
   "execution_count": null,
   "metadata": {},
   "outputs": [
    {
     "name": "stdout",
     "output_type": "stream",
     "text": [
      "<think>\n",
      "\n",
      "</think>\n",
      "\n",
      "The capital of India is **New Delhi**.\n"
     ]
    }
   ],
   "source": [
    "sample = model.invoke(\"what is capital of India?\")\n",
    "print(sample.content)"
   ]
  },
  {
   "cell_type": "code",
   "execution_count": 39,
   "metadata": {},
   "outputs": [],
   "source": [
    "sample_prompt = PromptTemplate.from_template(\n",
    "\"\"\"\n",
    "You are a text generator model. \n",
    "You will be given a passage as input\n",
    "**PASSAGE TEXT FROM USER:**\n",
    "{text}\n",
    "**PASSAGE TEXT FROM USER ENDS HERE**\n",
    "\n",
    "** FOLLOWING INFORMATION IS TO BE ANALYSED FROM THE INPUT PASSAGE :- **\n",
    "   1. Word count: In this field return a numeric value which is the count of number of words present in the passage.\n",
    "   2. Emotions: In this field return all the emotions present in the passage, like emotion of joy, sadness, anger, etc.\n",
    "   3. Possible books: In this field return 2-3 possible books from which the input passage text might have been given from.\n",
    "   4. Summary: In this field return the summary of the passage in 2-3 lines of text.\n",
    "\n",
    "   ** INSTRUCTIONS: ** Remember to give only the desired output fields, the text will be majorly in english langauge.\n",
    "   (NO PREAMBLE, ONLY INSTRUCTED OUTPUT REQUIRED and ignore <think> </think> tage in the final output)\n",
    "\"\"\"\n",
    ")"
   ]
  },
  {
   "cell_type": "code",
   "execution_count": 40,
   "metadata": {},
   "outputs": [],
   "source": [
    "sample_chain = sample_prompt | model\n",
    "res = sample_chain.invoke({\"text\": \"When we love, we always strive to become better than we are. When we strive to become better than we are, everything around us becomes better too.\"})"
   ]
  },
  {
   "cell_type": "code",
   "execution_count": 41,
   "metadata": {},
   "outputs": [
    {
     "name": "stdout",
     "output_type": "stream",
     "text": [
      "1. Word count: 29\n",
      "2. Emotions: love, positivity, hope\n",
      "3. Possible books:  \"The Alchemist\" by Paulo Coelho, \"The Power of Now\" by Eckhart Tolle, \"Daring Greatly\" by Brené Brown\n",
      "4. Summary:  Love inspires personal growth and improvement.  This pursuit of self-betterment has a positive ripple effect, enhancing the world around us.  \n",
      "\n"
     ]
    }
   ],
   "source": [
    "print(res.content)"
   ]
  },
  {
   "cell_type": "code",
   "execution_count": null,
   "metadata": {},
   "outputs": [],
   "source": []
  }
 ],
 "metadata": {
  "kernelspec": {
   "display_name": "venv",
   "language": "python",
   "name": "python3"
  },
  "language_info": {
   "codemirror_mode": {
    "name": "ipython",
    "version": 3
   },
   "file_extension": ".py",
   "mimetype": "text/x-python",
   "name": "python",
   "nbconvert_exporter": "python",
   "pygments_lexer": "ipython3",
   "version": "3.11.7"
  }
 },
 "nbformat": 4,
 "nbformat_minor": 2
}
